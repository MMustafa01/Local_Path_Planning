{
 "cells": [
  {
   "attachments": {},
   "cell_type": "markdown",
   "metadata": {},
   "source": [
    "# Global Planning through CARLA API\n",
    "In this notebook I will "
   ]
  },
  {
   "cell_type": "code",
   "execution_count": 2,
   "metadata": {},
   "outputs": [],
   "source": [
    "import sys\n",
    "import os\n",
    "import glob\n",
    "# sys.path.append(glob.glob('C:/CARLA/WindowsNoEditor/PythonAPI/carla/dist/carla-*%d.%d-%s.egg' % (\n",
    "#         sys.version_info.major,\n",
    "#         sys.version_info.minor,\n",
    "#         'win-amd64' if os.name == 'nt' else 'linux-x86_64'))[0])\n",
    "import math \n",
    "import random \n",
    "import time \n",
    "import numpy as np\n",
    "import cv2\n",
    "import open3d as o3d\n",
    "from matplotlib import cm\n",
    "\n",
    "import carla\n",
    "\n"
   ]
  },
  {
   "cell_type": "code",
   "execution_count": 3,
   "metadata": {},
   "outputs": [],
   "source": [
    "''' Connecting to Carla and fetching blue-print of the map'''\n",
    "\n",
    "# Connect the client and set up bp library and spawn point\n",
    "client = carla.Client('localhost', 2000)\n",
    "client.set_timeout(20.0)\n",
    "world = client.get_world()\n",
    "bp_lib = world.get_blueprint_library() \n",
    "spawn_points = world.get_map().get_spawn_points() "
   ]
  },
  {
   "cell_type": "code",
   "execution_count": 23,
   "metadata": {},
   "outputs": [],
   "source": [
    "start_point =  spawn_points[20]\n",
    "end_point = spawn_points[-3]"
   ]
  },
  {
   "cell_type": "code",
   "execution_count": 24,
   "metadata": {},
   "outputs": [],
   "source": [
    "''' Trying to import the Global and Local '''\n",
    "sys.path.append((\"C:/CARLA/WindowsNoEditor/PythonAPI/carla\"))\n",
    "from agents.navigation.global_route_planner import GlobalRoutePlanner"
   ]
  },
  {
   "cell_type": "code",
   "execution_count": 25,
   "metadata": {},
   "outputs": [],
   "source": [
    "''' Big Bren momment:\n",
    "I found the navigation library implemented in CARLA: \n",
    "Need to further look into the functionality of:\n",
    "1. Global Planner\n",
    "2. Local Planner\n",
    "3. Behaviour agent\n",
    "From the looks of it behaviour agent uses the parent class of Basic Agent.\n",
    "In any case Lets try to use the method \n",
    "_tailgating(elf, waypoint, vehicle_list): Used this script https://carla.readthedocs.io/en/0.9.12/adv_agents/\n",
    "Read up on the link\n",
    "'''\n",
    "\n",
    "# To import a basic agent\n",
    "from agents.navigation.basic_agent import BasicAgent\n",
    "\n",
    "# To import a behavior agent\n",
    "from agents.navigation.behavior_agent import BehaviorAgent"
   ]
  },
  {
   "cell_type": "code",
   "execution_count": 26,
   "metadata": {},
   "outputs": [],
   "source": [
    "vehicle = bp_lib.find('vehicle.lincoln.mkz_2020')\n",
    "\n",
    "vehicle = world.try_spawn_actor(vehicle, start_point) # use the .try_spawn_actor method always since sometimes the actor may collide at that spawn point\n",
    "\n",
    "spectator = world.get_spectator() \n",
    "transform = carla.Transform(vehicle.get_transform().transform(carla.Location(x=-5,z=2.5)),vehicle.get_transform().rotation) \n",
    "spectator.set_transform(transform)\n",
    "\n"
   ]
  },
  {
   "cell_type": "code",
   "execution_count": 27,
   "metadata": {},
   "outputs": [],
   "source": [
    "'''Simulating Traffic'''\n",
    "rand_veh = bp_lib.filter('vehicle.*')\n",
    "for v in rand_veh:\n",
    "    veh = world.try_spawn_actor(v, random.choice(spawn_points))\n",
    "    try:\n",
    "         veh.set_autopilot(True)\n",
    "    except:\n",
    "        pass"
   ]
  },
  {
   "cell_type": "code",
   "execution_count": 4,
   "metadata": {},
   "outputs": [],
   "source": [
    "for v in world.get_actors().filter(\"vehicle.*\"):\n",
    "    v.destroy()"
   ]
  },
  {
   "cell_type": "code",
   "execution_count": 29,
   "metadata": {},
   "outputs": [],
   "source": [
    "start_point = start_point.location\n",
    "end_point = end_point.location"
   ]
  },
  {
   "cell_type": "code",
   "execution_count": 30,
   "metadata": {},
   "outputs": [
    {
     "name": "stdout",
     "output_type": "stream",
     "text": [
      "Done\n"
     ]
    }
   ],
   "source": [
    "'''Tracing a route between the two specified point '''\n",
    "\n",
    "sampling_resolution = 1\n",
    "grp = GlobalRoutePlanner(world.get_map(), sampling_resolution)\n",
    "route =  grp.trace_route(start_point, end_point)\n",
    "\n",
    "''' This is just to visualize the route'''\n",
    "for waypoint in route:\n",
    "    world.debug.draw_string(waypoint[0].transform.location, '^', draw_shadow=False,\n",
    "        color=carla.Color(r=0, g=0, b=255), life_time=60.0,\n",
    "        persistent_lines=True)\n",
    "    \n",
    "print(\"Done\")"
   ]
  },
  {
   "cell_type": "code",
   "execution_count": 31,
   "metadata": {},
   "outputs": [],
   "source": [
    "# To start a basic agent\n",
    "agent = BasicAgent(vehicle)\n",
    "\n",
    "# To start a behavior agent with an aggressive profile\n",
    "agent = BehaviorAgent(vehicle, behavior='aggressive')\n",
    "agent.set_destination(end_point, start_point)"
   ]
  },
  {
   "cell_type": "code",
   "execution_count": 32,
   "metadata": {},
   "outputs": [
    {
     "name": "stdout",
     "output_type": "stream",
     "text": [
      "The target has been reached, stopping the simulation\n"
     ]
    }
   ],
   "source": [
    "while True:\n",
    "    if agent.done():\n",
    "        print(\"The target has been reached, stopping the simulation\")\n",
    "        break\n",
    "\n",
    "    vehicle.apply_control(agent.run_step())"
   ]
  },
  {
   "cell_type": "code",
   "execution_count": 33,
   "metadata": {},
   "outputs": [
    {
     "name": "stdout",
     "output_type": "stream",
     "text": [
      "[Actor(id=193, type=vehicle.vespa.zx125), Actor(id=194, type=vehicle.mini.cooper_s_2021), Actor(id=195, type=vehicle.nissan.patrol_2021), Actor(id=185, type=vehicle.bh.crossbike), Actor(id=186, type=vehicle.tesla.model3), Actor(id=187, type=vehicle.gazelle.omafiets), Actor(id=188, type=vehicle.diamondback.century), Actor(id=189, type=vehicle.mercedes.sprinter), Actor(id=190, type=vehicle.audi.etron), Actor(id=179, type=vehicle.mercedes.coupe), Actor(id=191, type=vehicle.volkswagen.t2), Actor(id=178, type=vehicle.mini.cooper_s), Actor(id=192, type=vehicle.dodge.charger_police_2020), Actor(id=177, type=vehicle.jeep.wrangler_rubicon), Actor(id=176, type=vehicle.nissan.patrol), Actor(id=175, type=vehicle.dodge.charger_police), Actor(id=174, type=vehicle.citroen.c3), Actor(id=173, type=vehicle.lincoln.mkz_2020), Actor(id=172, type=vehicle.chevrolet.impala), Actor(id=171, type=vehicle.ford.mustang), Actor(id=170, type=vehicle.carlamotors.carlacola), Actor(id=169, type=vehicle.carlamotors.firetruck), Actor(id=168, type=vehicle.micro.microlino), Actor(id=167, type=vehicle.ford.ambulance), Actor(id=184, type=vehicle.kawasaki.ninja), Actor(id=183, type=vehicle.yamaha.yzf), Actor(id=182, type=vehicle.toyota.prius), Actor(id=181, type=vehicle.seat.leon), Actor(id=166, type=vehicle.harley-davidson.low_rider), Actor(id=165, type=vehicle.bmw.grandtourer), Actor(id=164, type=vehicle.mercedes.coupe_2020), Actor(id=163, type=vehicle.nissan.micra), Actor(id=180, type=vehicle.dodge.charger_2020), Actor(id=162, type=vehicle.audi.a2), Actor(id=161, type=vehicle.lincoln.mkz_2020)]\n"
     ]
    }
   ],
   "source": [
    "''' Destroy everything'''\n",
    "try:\n",
    "    car_lst = world.get_actors().filter('vehicle.*')\n",
    "    print(car_lst)\n",
    "    if car_lst:\n",
    "        for car in car_lst:\n",
    "            car.destroy()\n",
    "except:\n",
    "    print(\"Nope doesnt work\")"
   ]
  },
  {
   "attachments": {},
   "cell_type": "markdown",
   "metadata": {},
   "source": [
    "Okay so lets make some notes:\n",
    "1. Right now we arent doing anything exceptional since we are just using the API provided by CARLA.\n",
    "2. However, if we want to conduct some research on Path planning we can leverage the BASIC Agent and behaviour agent script (This will implement the behavioural modelling on its on).\n",
    "   1. The thing that we would have to do it figure outr how the global planner and local planner interacts with the behaviour classes. Then we can just change the given planner with our own\n",
    "3. Try to see if I can change the perception side of things and make it more realistic\n"
   ]
  },
  {
   "attachments": {},
   "cell_type": "markdown",
   "metadata": {},
   "source": [
    "So immediate plan following this is:\n",
    "1. Make a system design model how the navigation library seemingly works\n",
    "2. check out the "
   ]
  },
  {
   "cell_type": "code",
   "execution_count": 34,
   "metadata": {},
   "outputs": [
    {
     "ename": "",
     "evalue": "",
     "output_type": "error",
     "traceback": [
      "\u001b[1;31mThe Kernel crashed while executing code in the the current cell or a previous cell. Please review the code in the cell(s) to identify a possible cause of the failure. Click <a href='https://aka.ms/vscodeJupyterKernelCrash'>here</a> for more info. View Jupyter <a href='command:jupyter.viewOutput'>log</a> for further details."
     ]
    }
   ],
   "source": [
    "  # Toggle all buildings off\n",
    "world.load_map_layer(carla.MapLayer.Buildings)"
   ]
  }
 ],
 "metadata": {
  "kernelspec": {
   "display_name": "carla",
   "language": "python",
   "name": "python3"
  },
  "language_info": {
   "codemirror_mode": {
    "name": "ipython",
    "version": 3
   },
   "file_extension": ".py",
   "mimetype": "text/x-python",
   "name": "python",
   "nbconvert_exporter": "python",
   "pygments_lexer": "ipython3",
   "version": "3.7.16"
  },
  "orig_nbformat": 4
 },
 "nbformat": 4,
 "nbformat_minor": 2
}
